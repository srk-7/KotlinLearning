{
 "cells": [
  {
   "cell_type": "code",
   "execution_count": null,
   "id": "0d65f351-bcc0-40d5-9478-56a421b7a81a",
   "metadata": {},
   "outputs": [],
   "source": [
    "//  to create array arrayOf"
   ]
  },
  {
   "cell_type": "code",
   "execution_count": 1,
   "id": "26041ae3-7755-4318-b8ab-5c432bc6ce31",
   "metadata": {},
   "outputs": [],
   "source": [
    "val student = arrayOf(\"srk\", \"allen\", \"mahesh\", \"akash\")"
   ]
  },
  {
   "cell_type": "code",
   "execution_count": 5,
   "id": "8fa106e2-7eb2-4d2c-a6c8-27d61a0915ee",
   "metadata": {},
   "outputs": [
    {
     "name": "stdout",
     "output_type": "stream",
     "text": [
      "srk"
     ]
    }
   ],
   "source": [
    "print(student[0])"
   ]
  },
  {
   "cell_type": "code",
   "execution_count": 7,
   "id": "955737e9-e86c-45bb-ad56-3928a103f7f6",
   "metadata": {},
   "outputs": [],
   "source": [
    "student[3]=\"akashh\""
   ]
  },
  {
   "cell_type": "code",
   "execution_count": 10,
   "id": "1079ebd9-1434-48c8-a9bb-970edf4b2151",
   "metadata": {},
   "outputs": [
    {
     "name": "stdout",
     "output_type": "stream",
     "text": [
      "srk allen mahesh akashh "
     ]
    }
   ],
   "source": [
    "for(i in student){\n",
    "    print(i+\" \")\n",
    "}"
   ]
  },
  {
   "cell_type": "code",
   "execution_count": 11,
   "id": "80522c7c-3a6d-4baa-ac9f-808243f0962f",
   "metadata": {},
   "outputs": [
    {
     "name": "stdout",
     "output_type": "stream",
     "text": [
      "4"
     ]
    }
   ],
   "source": [
    "print(student.size)"
   ]
  },
  {
   "cell_type": "code",
   "execution_count": 16,
   "id": "9ff49667-f246-4ba6-94cf-a2becdde5b44",
   "metadata": {},
   "outputs": [
    {
     "name": "stdout",
     "output_type": "stream",
     "text": [
      "student\n"
     ]
    }
   ],
   "source": [
    "if(\"allen\" in student)\n",
    "{\n",
    "    println(\"student\")\n",
    "}"
   ]
  }
 ],
 "metadata": {
  "kernelspec": {
   "display_name": "Kotlin",
   "language": "kotlin",
   "name": "kotlin"
  },
  "language_info": {
   "codemirror_mode": "text/x-kotlin",
   "file_extension": ".kt",
   "mimetype": "text/x-kotlin",
   "name": "kotlin",
   "nbconvert_exporter": "",
   "pygments_lexer": "kotlin",
   "version": "1.9.10"
  }
 },
 "nbformat": 4,
 "nbformat_minor": 5
}
