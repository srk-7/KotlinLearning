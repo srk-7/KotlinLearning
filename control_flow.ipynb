{
 "cells": [
  {
   "cell_type": "code",
   "execution_count": 3,
   "id": "e24ff539-239a-4eba-9640-4a902eb917da",
   "metadata": {},
   "outputs": [
    {
     "name": "stdout",
     "output_type": "stream",
     "text": [
      "can vote\n"
     ]
    }
   ],
   "source": [
    "var age=18\n",
    "if(age<18)\n",
    "{\n",
    "    println(\"No Voting\")\n",
    "}\n",
    "else\n",
    "{\n",
    "    println(\"can vote\")\n",
    "}"
   ]
  },
  {
   "cell_type": "code",
   "execution_count": 10,
   "id": "2b6d00fe-ca7a-481d-9d4e-d88bf91135b8",
   "metadata": {},
   "outputs": [
    {
     "name": "stdout",
     "output_type": "stream",
     "text": [
      "c big\n"
     ]
    }
   ],
   "source": [
    "var a=5\n",
    "var b=1\n",
    "var c=41\n",
    "if(a>b){\n",
    "    if(a>c){\n",
    "        println(\"a big\")\n",
    "    }\n",
    "    else{\n",
    "        println(\"c big\")\n",
    "    }\n",
    "}\n",
    "else\n",
    "{\n",
    "    println(\"b is big\")\n",
    "}"
   ]
  },
  {
   "cell_type": "code",
   "execution_count": 12,
   "id": "016a4b61-b594-4aab-b76e-7ba352c655a0",
   "metadata": {},
   "outputs": [
    {
     "name": "stdout",
     "output_type": "stream",
     "text": [
      "Thursday\n"
     ]
    }
   ],
   "source": [
    "val num = 4\n",
    "\n",
    "val r = when (num) {\n",
    "  1 -> \"Monday\"\n",
    "  2 -> \"Tuesday\"\n",
    "  3 -> \"Wednesday\"\n",
    "  4 -> \"Thursday\"\n",
    "  5 -> \"Friday\"\n",
    "  6 -> \"Saturday\"\n",
    "  7 -> \"Sunday\"\n",
    "  else -> \"Invalid\"\n",
    "}\n",
    "println(r)"
   ]
  },
  {
   "cell_type": "code",
   "execution_count": 13,
   "id": "610d2c18-fb40-459a-8d49-28a62ed49d55",
   "metadata": {},
   "outputs": [
    {
     "name": "stdout",
     "output_type": "stream",
     "text": [
      "0\n",
      "1\n",
      "2\n",
      "3\n",
      "4\n"
     ]
    }
   ],
   "source": [
    "var i = 0\n",
    "while (i < 5) {\n",
    "  println(i)\n",
    "  i++\n",
    "} "
   ]
  },
  {
   "cell_type": "code",
   "execution_count": 14,
   "id": "3dc0291f-4061-4236-b181-3e1767d87721",
   "metadata": {},
   "outputs": [
    {
     "name": "stdout",
     "output_type": "stream",
     "text": [
      "0\n",
      "1\n",
      "2\n",
      "3\n",
      "4\n"
     ]
    }
   ],
   "source": [
    "var i = 0\n",
    "do {\n",
    "  println(i)\n",
    "  i++\n",
    "  }\n",
    "while (i < 5) "
   ]
  },
  {
   "cell_type": "code",
   "execution_count": 16,
   "id": "f871d65e-13c3-4914-87b0-4859f377dac0",
   "metadata": {},
   "outputs": [
    {
     "name": "stdout",
     "output_type": "stream",
     "text": [
      "0\n",
      "2\n",
      "3\n",
      "4\n",
      "5\n",
      "6\n",
      "7\n",
      "8\n",
      "9\n"
     ]
    }
   ],
   "source": [
    "var i = 0\n",
    "while (i < 10) {\n",
    "  if (i == 1) {\n",
    "    i++\n",
    "    continue\n",
    "  }\n",
    "  println(i)\n",
    "  i++\n",
    "}"
   ]
  },
  {
   "cell_type": "code",
   "execution_count": 21,
   "id": "013e9fe7-80d0-4177-bdbb-e87394e96c80",
   "metadata": {},
   "outputs": [
    {
     "name": "stdout",
     "output_type": "stream",
     "text": [
      "1\n",
      "2\n",
      "3\n",
      "4\n",
      "5\n",
      "6\n",
      "7\n",
      "8\n",
      "9\n",
      "10\n"
     ]
    }
   ],
   "source": [
    "for(i in 1..10) //in mandatory in kotlin\n",
    "{\n",
    "    println(i)\n",
    "}"
   ]
  }
 ],
 "metadata": {
  "kernelspec": {
   "display_name": "Kotlin",
   "language": "kotlin",
   "name": "kotlin"
  },
  "language_info": {
   "codemirror_mode": "text/x-kotlin",
   "file_extension": ".kt",
   "mimetype": "text/x-kotlin",
   "name": "kotlin",
   "nbconvert_exporter": "",
   "pygments_lexer": "kotlin",
   "version": "1.9.10"
  }
 },
 "nbformat": 4,
 "nbformat_minor": 5
}
