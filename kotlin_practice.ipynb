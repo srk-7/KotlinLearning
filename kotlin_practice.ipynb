{
 "cells": [
  {
   "cell_type": "code",
   "execution_count": 2,
   "id": "4322b6c1-bf1a-4d75-902b-b8e031aa6ab9",
   "metadata": {},
   "outputs": [],
   "source": [
    "val x=10"
   ]
  },
  {
   "cell_type": "code",
   "execution_count": 3,
   "id": "18fab7fa-9180-45c5-9f97-46bc440b836e",
   "metadata": {},
   "outputs": [
    {
     "name": "stdout",
     "output_type": "stream",
     "text": [
      "10\n"
     ]
    }
   ],
   "source": [
    "println(x)"
   ]
  },
  {
   "cell_type": "code",
   "execution_count": 6,
   "id": "c33769b7-9124-458e-9367-378deff50edd",
   "metadata": {},
   "outputs": [
    {
     "name": "stderr",
     "output_type": "stream",
     "text": [
      "Line_5.jupyter.kts (1:1 - 2) Val cannot be reassigned"
     ]
    }
   ],
   "source": [
    "x=11\n",
    "//error because val the values cant be modified but with var we can"
   ]
  },
  {
   "cell_type": "code",
   "execution_count": 8,
   "id": "4c384e42-6072-4b02-a9d3-92a16f3da3f5",
   "metadata": {},
   "outputs": [
    {
     "name": "stdout",
     "output_type": "stream",
     "text": [
      "1\n"
     ]
    }
   ],
   "source": [
    "var r=1\n",
    "println(r)"
   ]
  },
  {
   "cell_type": "code",
   "execution_count": 10,
   "id": "106d58aa-9194-4717-af1a-81f27456a8da",
   "metadata": {},
   "outputs": [],
   "source": [
    "r=5"
   ]
  },
  {
   "cell_type": "code",
   "execution_count": 11,
   "id": "4a80d8f6-d6af-412c-a30a-b84430d5db2d",
   "metadata": {},
   "outputs": [
    {
     "name": "stdout",
     "output_type": "stream",
     "text": [
      "5\n"
     ]
    }
   ],
   "source": [
    "println(r)"
   ]
  },
  {
   "cell_type": "code",
   "execution_count": 13,
   "id": "b823f282-23fa-4684-8132-e967f9822317",
   "metadata": {},
   "outputs": [
    {
     "name": "stdout",
     "output_type": "stream",
     "text": [
      "hei\n",
      "11\n"
     ]
    }
   ],
   "source": [
    "var nme = \"hei\"\n",
    "val bir = 11\n",
    "println(nme)\n",
    "println(bir)"
   ]
  },
  {
   "cell_type": "code",
   "execution_count": 14,
   "id": "64f0093d-8dd4-4fa7-bccd-881674c95c11",
   "metadata": {},
   "outputs": [],
   "source": [
    "val z: Int = 2"
   ]
  },
  {
   "cell_type": "code",
   "execution_count": 17,
   "id": "feccc7b6-ec52-4ae1-a800-78e6d8fdb666",
   "metadata": {},
   "outputs": [
    {
     "name": "stdout",
     "output_type": "stream",
     "text": [
      "6\n"
     ]
    }
   ],
   "source": [
    "var y=5\n",
    "y=y+1\n",
    "println(y)"
   ]
  },
  {
   "cell_type": "code",
   "execution_count": 18,
   "id": "0eee7482-b4e4-4571-9934-f933873c0625",
   "metadata": {},
   "outputs": [
    {
     "name": "stdout",
     "output_type": "stream",
     "text": [
      "3\n"
     ]
    }
   ],
   "source": [
    "fun inc(a: Int): Int {\n",
    "    return a + 1\n",
    "}\n",
    "\n",
    "val res = inc(2)\n",
    "println(res)\n"
   ]
  },
  {
   "cell_type": "code",
   "execution_count": 21,
   "id": "503d56b5-f401-45a8-9b81-53d5fb8708ab",
   "metadata": {},
   "outputs": [],
   "source": [
    "val c=30\n",
    "val d=\"hi\"\n",
    "val e=3.14\n",
    "val f=85695828258\n",
    "val g='e'"
   ]
  },
  {
   "cell_type": "code",
   "execution_count": 23,
   "id": "27f287fb-ef3d-41fe-bf5a-b4cd8f026d2b",
   "metadata": {},
   "outputs": [],
   "source": [
    "val myNum: Int = 5\n",
    "val myDoubleNum: Double = 5.99\n",
    "val myLetter: Char = 'D'\n",
    "val myBoolean: Boolean = true\n",
    "val myText: String = \"Hello\""
   ]
  },
  {
   "cell_type": "code",
   "execution_count": 26,
   "id": "053a8b42-906f-4d1c-99e4-a52265b1489e",
   "metadata": {},
   "outputs": [
    {
     "name": "stdout",
     "output_type": "stream",
     "text": [
      "5\n"
     ]
    }
   ],
   "source": [
    "val first: Int = 5\n",
    "val second: Long = first.toLong()\n",
    "println(second)"
   ]
  },
  {
   "cell_type": "code",
   "execution_count": 27,
   "id": "01f9e461-53c6-482f-94ec-b5106682caf9",
   "metadata": {},
   "outputs": [],
   "source": [
    "// To convert a numeric data type to another type, you must use one of the following functions: \n",
    "// toByte(), \n",
    "// toShort(), \n",
    "// toInt(), \n",
    "// toLong(), \n",
    "// toFloat(), \n",
    "// toDouble(),\n",
    "// toChar()"
   ]
  },
  {
   "cell_type": "code",
   "execution_count": 47,
   "id": "2943e899-6628-4875-840d-e047aecb9f3d",
   "metadata": {},
   "outputs": [
    {
     "name": "stdout",
     "output_type": "stream",
     "text": [
      "1\n",
      "hisrk"
     ]
    }
   ],
   "source": [
    "var sum=1\n",
    "var test=\"hi\"+\"srk\"\n",
    "println(sum)\n",
    "print(test)"
   ]
  },
  {
   "cell_type": "code",
   "execution_count": 56,
   "id": "3272213e-dcf2-4112-9e3b-cf6d1a232c60",
   "metadata": {},
   "outputs": [
    {
     "name": "stdout",
     "output_type": "stream",
     "text": [
      "10\n"
     ]
    }
   ],
   "source": [
    "sum++\n",
    "println(sum)"
   ]
  },
  {
   "cell_type": "code",
   "execution_count": 57,
   "id": "311a04e6-dbe9-444f-a978-30cddebbc7ec",
   "metadata": {},
   "outputs": [
    {
     "name": "stdout",
     "output_type": "stream",
     "text": [
      "10"
     ]
    }
   ],
   "source": [
    "print(sum)"
   ]
  },
  {
   "cell_type": "code",
   "execution_count": 64,
   "id": "28963e38-6947-4a51-a7a7-9163a2c210bb",
   "metadata": {},
   "outputs": [
    {
     "name": "stdout",
     "output_type": "stream",
     "text": [
      "100\n"
     ]
    }
   ],
   "source": [
    "// var ans=10+sum\n",
    "// var ans=10%sum\n",
    "var ans=10*sum\n",
    "println(ans)"
   ]
  },
  {
   "cell_type": "code",
   "execution_count": 70,
   "id": "47c3ffaf-2ed1-41af-ba3b-1199d03ba525",
   "metadata": {},
   "outputs": [
    {
     "name": "stdout",
     "output_type": "stream",
     "text": [
      "false\n",
      "true\n"
     ]
    }
   ],
   "source": [
    "var age=18\n",
    "println(age > 3 && age < 9)\n",
    "println(age > 3 || age < 10)"
   ]
  },
  {
   "cell_type": "code",
   "execution_count": 72,
   "id": "c1536bdf-c533-4299-bb6f-2d5b6ffc9040",
   "metadata": {},
   "outputs": [
    {
     "name": "stdout",
     "output_type": "stream",
     "text": [
      "v\n"
     ]
    }
   ],
   "source": [
    "var s: String\n",
    "s=\"shiva\"\n",
    "println(s[3])"
   ]
  },
  {
   "cell_type": "code",
   "execution_count": 74,
   "id": "049acf99-36a4-4c7f-8c3a-fbb2ed42158f",
   "metadata": {},
   "outputs": [
    {
     "name": "stdout",
     "output_type": "stream",
     "text": [
      "5"
     ]
    }
   ],
   "source": [
    "print(s.length)"
   ]
  },
  {
   "cell_type": "code",
   "execution_count": 77,
   "id": "8f272477-31ea-46a4-84c6-184a8301d66f",
   "metadata": {},
   "outputs": [
    {
     "name": "stdout",
     "output_type": "stream",
     "text": [
      "SHIVA\n",
      "shiva\n"
     ]
    }
   ],
   "source": [
    "println(s.toUpperCase())\n",
    "println(s.toLowerCase())"
   ]
  },
  {
   "cell_type": "code",
   "execution_count": 86,
   "id": "9f8a55f7-0104-4ee0-8f8b-f6e5c0fb7b9a",
   "metadata": {},
   "outputs": [
    {
     "name": "stdout",
     "output_type": "stream",
     "text": [
      "1\n",
      "shivashiv\n",
      "shivashiv\n"
     ]
    }
   ],
   "source": [
    "var h1 = \"shiva\"\n",
    "var h2 = \"shiv\"\n",
    "println(h1.compareTo(h2)) \n",
    "println(h1.plus(h2))\n",
    "println(h1+h2)"
   ]
  },
  {
   "cell_type": "code",
   "execution_count": 84,
   "id": "41e36f2c-6d61-464d-a824-de78eac787cf",
   "metadata": {},
   "outputs": [
    {
     "name": "stdout",
     "output_type": "stream",
     "text": [
      "39\n"
     ]
    }
   ],
   "source": [
    "var txt = \"name is shivaramakrishna abbrevated as srk\"\n",
    "println(txt.indexOf(\"srk\"))"
   ]
  },
  {
   "cell_type": "code",
   "execution_count": 87,
   "id": "0ac4ce29-d09e-4683-89a7-3765517af39d",
   "metadata": {},
   "outputs": [
    {
     "name": "stdout",
     "output_type": "stream",
     "text": [
      "My name is srk a\n"
     ]
    }
   ],
   "source": [
    "var fn = \"srk\"\n",
    "var ln = \"a\"\n",
    "println(\"My name is $fn $ln\")"
   ]
  },
  {
   "cell_type": "code",
   "execution_count": 88,
   "id": "a9e48e68-2906-4c7d-97bf-189eeef04db8",
   "metadata": {},
   "outputs": [
    {
     "name": "stdout",
     "output_type": "stream",
     "text": [
      "false\n"
     ]
    }
   ],
   "source": [
    "var m=8\n",
    "var n=7\n",
    "println(m<n)"
   ]
  },
  {
   "cell_type": "code",
   "execution_count": 92,
   "id": "4b054fbb-4e2f-4570-9766-f45444ea7158",
   "metadata": {},
   "outputs": [
    {
     "name": "stdout",
     "output_type": "stream",
     "text": [
      "true\n"
     ]
    }
   ],
   "source": [
    "var m=7\n",
    "var n=7\n",
    "println(m==n)"
   ]
  },
  {
   "cell_type": "code",
   "execution_count": 93,
   "id": "b6428aff-54ce-47a4-b543-c975caa1881c",
   "metadata": {},
   "outputs": [
    {
     "name": "stdout",
     "output_type": "stream",
     "text": [
      "true\n"
     ]
    }
   ],
   "source": [
    "println(true)"
   ]
  }
 ],
 "metadata": {
  "kernelspec": {
   "display_name": "Kotlin",
   "language": "kotlin",
   "name": "kotlin"
  },
  "language_info": {
   "codemirror_mode": "text/x-kotlin",
   "file_extension": ".kt",
   "mimetype": "text/x-kotlin",
   "name": "kotlin",
   "nbconvert_exporter": "",
   "pygments_lexer": "kotlin",
   "version": "1.9.10"
  }
 },
 "nbformat": 4,
 "nbformat_minor": 5
}
